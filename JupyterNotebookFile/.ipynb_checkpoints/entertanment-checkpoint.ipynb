{
 "cells": [
  {
   "cell_type": "code",
   "execution_count": 3,
   "metadata": {},
   "outputs": [
    {
     "name": "stdout",
     "output_type": "stream",
     "text": [
      "aikes\n"
     ]
    },
    {
     "ename": "AttributeError",
     "evalue": "'module' object has no attribute 'open_movie_page'",
     "output_type": "error",
     "traceback": [
      "\u001b[1;31m---------------------------------------------------------------------------\u001b[0m",
      "\u001b[1;31mAttributeError\u001b[0m                            Traceback (most recent call last)",
      "\u001b[1;32m<ipython-input-3-408dfa379a00>\u001b[0m in \u001b[0;36m<module>\u001b[1;34m()\u001b[0m\n\u001b[0;32m      5\u001b[0m \u001b[0maikes\u001b[0m \u001b[1;33m=\u001b[0m \u001b[0mmedia1\u001b[0m\u001b[1;33m.\u001b[0m\u001b[0mMovie\u001b[0m\u001b[1;33m(\u001b[0m\u001b[1;34m\"aikes\"\u001b[0m\u001b[1;33m,\u001b[0m\u001b[1;34m\"a man to save earth\"\u001b[0m\u001b[1;33m,\u001b[0m\u001b[1;34m\"http://www.iqiyi.\"\u001b[0m\u001b[1;33m,\u001b[0m\u001b[1;34m\"https://bangumi.bilibili.com/anime/6422/play#114969\"\u001b[0m\u001b[1;33m)\u001b[0m\u001b[1;33m\u001b[0m\u001b[0m\n\u001b[0;32m      6\u001b[0m \u001b[1;32mprint\u001b[0m\u001b[1;33m(\u001b[0m\u001b[0maikes\u001b[0m\u001b[1;33m.\u001b[0m\u001b[0mtitle\u001b[0m\u001b[1;33m)\u001b[0m\u001b[1;33m\u001b[0m\u001b[0m\n\u001b[1;32m----> 7\u001b[1;33m \u001b[0mfresh_tomatoes\u001b[0m\u001b[1;33m.\u001b[0m\u001b[0mopen_movie_page\u001b[0m\u001b[1;33m(\u001b[0m\u001b[0maikes\u001b[0m\u001b[1;33m)\u001b[0m\u001b[1;33m\u001b[0m\u001b[0m\n\u001b[0m",
      "\u001b[1;31mAttributeError\u001b[0m: 'module' object has no attribute 'open_movie_page'"
     ]
    }
   ],
   "source": [
    "#import os\n",
    "#print(os.getcwd())  G:\\Jupyter_Notebook_File\n",
    "import fresh_tomatoes\n",
    "import media1\n",
    "aikes = media1.Movie(\"aikes\",\"a man to save earth\",\"http://www.iqiyi.\",\"https://bangumi.bilibili.com/anime/6422/play#114969\")\n",
    "print(aikes.title)\n",
    "fresh_tomatoes.open_movie_page(aikes)"
   ]
  },
  {
   "cell_type": "code",
   "execution_count": null,
   "metadata": {
    "collapsed": true
   },
   "outputs": [],
   "source": []
  }
 ],
 "metadata": {
  "kernelspec": {
   "display_name": "Python 2",
   "language": "python",
   "name": "python2"
  },
  "language_info": {
   "codemirror_mode": {
    "name": "ipython",
    "version": 2
   },
   "file_extension": ".py",
   "mimetype": "text/x-python",
   "name": "python",
   "nbconvert_exporter": "python",
   "pygments_lexer": "ipython2",
   "version": "2.7.13"
  }
 },
 "nbformat": 4,
 "nbformat_minor": 2
}
