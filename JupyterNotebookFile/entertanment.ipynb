{
 "cells": [
  {
   "cell_type": "code",
   "execution_count": 7,
   "metadata": {},
   "outputs": [
    {
     "name": "stdout",
     "output_type": "stream",
     "text": [
      "aikes\n"
     ]
    },
    {
     "ename": "AttributeError",
     "evalue": "Movie instance has no attribute 'trailer_youtube_url'",
     "output_type": "error",
     "traceback": [
      "\u001b[1;31m---------------------------------------------------------------------------\u001b[0m",
      "\u001b[1;31mAttributeError\u001b[0m                            Traceback (most recent call last)",
      "\u001b[1;32m<ipython-input-7-7190d266a08e>\u001b[0m in \u001b[0;36m<module>\u001b[1;34m()\u001b[0m\n\u001b[0;32m      7\u001b[0m \u001b[1;32mprint\u001b[0m\u001b[1;33m(\u001b[0m\u001b[0maikes\u001b[0m\u001b[1;33m.\u001b[0m\u001b[0mtitle\u001b[0m\u001b[1;33m)\u001b[0m\u001b[1;33m\u001b[0m\u001b[0m\n\u001b[0;32m      8\u001b[0m \u001b[0mmovies\u001b[0m\u001b[1;33m=\u001b[0m\u001b[1;33m[\u001b[0m\u001b[0maikes\u001b[0m\u001b[1;33m]\u001b[0m\u001b[1;33m\u001b[0m\u001b[0m\n\u001b[1;32m----> 9\u001b[1;33m \u001b[0mfresh_tomatoes\u001b[0m\u001b[1;33m.\u001b[0m\u001b[0mopen_movies_page\u001b[0m\u001b[1;33m(\u001b[0m\u001b[0mmovies\u001b[0m\u001b[1;33m)\u001b[0m\u001b[1;33m\u001b[0m\u001b[0m\n\u001b[0m",
      "\u001b[1;32mG:\\Jupyter_Notebook_File\\fresh_tomatoes.py\u001b[0m in \u001b[0;36mopen_movies_page\u001b[1;34m(movies)\u001b[0m\n\u001b[0;32m    157\u001b[0m     \u001b[1;31m# Replace the movie tiles placeholder generated content\u001b[0m\u001b[1;33m\u001b[0m\u001b[1;33m\u001b[0m\u001b[0m\n\u001b[0;32m    158\u001b[0m     rendered_content = main_page_content.format(\n\u001b[1;32m--> 159\u001b[1;33m         movie_tiles=create_movie_tiles_content(movies))\n\u001b[0m\u001b[0;32m    160\u001b[0m \u001b[1;33m\u001b[0m\u001b[0m\n\u001b[0;32m    161\u001b[0m     \u001b[1;31m# Output the file\u001b[0m\u001b[1;33m\u001b[0m\u001b[1;33m\u001b[0m\u001b[0m\n",
      "\u001b[1;32mG:\\Jupyter_Notebook_File\\fresh_tomatoes.py\u001b[0m in \u001b[0;36mcreate_movie_tiles_content\u001b[1;34m(movies)\u001b[0m\n\u001b[0;32m    136\u001b[0m         \u001b[1;31m# Extract the youtube ID from the url\u001b[0m\u001b[1;33m\u001b[0m\u001b[1;33m\u001b[0m\u001b[0m\n\u001b[0;32m    137\u001b[0m         youtube_id_match = re.search(\n\u001b[1;32m--> 138\u001b[1;33m             r'(?<=v=)[^&#]+', movie.trailer_youtube_url)\n\u001b[0m\u001b[0;32m    139\u001b[0m         youtube_id_match = youtube_id_match or re.search(\n\u001b[0;32m    140\u001b[0m             r'(?<=be/)[^&#]+', movie.trailer_youtube_url)\n",
      "\u001b[1;31mAttributeError\u001b[0m: Movie instance has no attribute 'trailer_youtube_url'"
     ]
    }
   ],
   "source": [
    "#import os\n",
    "#print(os.getcwd())  G:\\Jupyter_Notebook_File\n",
    "import fresh_tomatoes\n",
    "import media1\n",
    "aikes = media1.Movie(\"aikes\",\"a man to save earth\",\"https://bangumi.bilibili.com/anime/6422/play#114969\",\n",
    "                     \"https://bangumi.bilibili.com/anime/6422/play#114969\")\n",
    "print(aikes.title)\n",
    "movies=[aikes]\n",
    "fresh_tomatoes.open_movies_page(movies)"
   ]
  },
  {
   "cell_type": "code",
   "execution_count": null,
   "metadata": {
    "collapsed": true
   },
   "outputs": [],
   "source": []
  }
 ],
 "metadata": {
  "kernelspec": {
   "display_name": "Python 2",
   "language": "python",
   "name": "python2"
  },
  "language_info": {
   "codemirror_mode": {
    "name": "ipython",
    "version": 2
   },
   "file_extension": ".py",
   "mimetype": "text/x-python",
   "name": "python",
   "nbconvert_exporter": "python",
   "pygments_lexer": "ipython2",
   "version": "2.7.13"
  }
 },
 "nbformat": 4,
 "nbformat_minor": 2
}
